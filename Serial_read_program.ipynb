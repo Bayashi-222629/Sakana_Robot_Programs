{
 "cells": [
  {
   "cell_type": "code",
   "execution_count": null,
   "id": "1d07be5c",
   "metadata": {},
   "outputs": [
    {
     "ename": "",
     "evalue": "",
     "output_type": "error",
     "traceback": [
      "\u001b[1;31m'Python 3.9.13 ('kobayahipy')' を使用した実行中のセルには ipykernel パッケージが必要です。\n",
      "\u001b[1;31m次のコマンドを実行して、'ipykernel' を Python 環境にインストールします。\n",
      "\u001b[1;31mコマンド: 'conda install -n kobayahipy ipykernel --update-deps --force-reinstall'"
     ]
    }
   ],
   "source": [
    "from itertools import count\n",
    "import serial\n",
    "import time\n",
    "import pandas as pd\n",
    "import numpy as np\n",
    "import csv\n",
    "ser.close()"
   ]
  },
  {
   "cell_type": "code",
   "execution_count": null,
   "id": "ca2e05c4",
   "metadata": {},
   "outputs": [
    {
     "ename": "",
     "evalue": "",
     "output_type": "error",
     "traceback": [
      "\u001b[1;31mThe kernel failed to start as a dll could not be loaded.\n",
      "\u001b[1;31m詳細については<a href='https://aka.ms/kernelFailuresDllLoad'>こちら</a>をクリックしてください。"
     ]
    }
   ],
   "source": [
    "from itertools import count\n",
    "import serial\n",
    "import time\n",
    "import pandas as pd\n",
    "import numpy as np\n",
    "import csv\n",
    "\n",
    "output = [[]]\n",
    "\n",
    "ser = serial.Serial('COM5', 9600, timeout=0.1) \n",
    "print(\"start\")\n",
    "\n",
    "for i in range(400):\n",
    "\n",
    "    data = ser.readline().decode('utf8')\n",
    "    data_array= data.split(\",\")\n",
    "    print(data_array)\n",
    "    output.append(data_array)\n",
    "    time.sleep(0.1)\n",
    "\n",
    "ser.close()\n",
    "\n",
    "output = pd.DataFrame(output)\n",
    "output.to_csv(\"data_file.csv\")\n",
    "#print(output)\n",
    "print(\"end\")\n"
   ]
  },
  {
   "cell_type": "code",
   "execution_count": null,
   "id": "3490fd09",
   "metadata": {},
   "outputs": [],
   "source": []
  }
 ],
 "metadata": {
  "kernelspec": {
   "display_name": "Python 3.9.13 ('base')",
   "language": "python",
   "name": "python3"
  },
  "language_info": {
   "codemirror_mode": {
    "name": "ipython",
    "version": 3
   },
   "file_extension": ".py",
   "mimetype": "text/x-python",
   "name": "python",
   "nbconvert_exporter": "python",
   "pygments_lexer": "ipython3",
   "version": "3.9.13"
  },
  "vscode": {
   "interpreter": {
    "hash": "5f9af37e4930f19322a0f192699948a8671c0bef4babc0c236eb6f87cf1c583b"
   }
  }
 },
 "nbformat": 4,
 "nbformat_minor": 5
}
